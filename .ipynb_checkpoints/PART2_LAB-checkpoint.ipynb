{
 "cells": [
  {
   "cell_type": "code",
   "execution_count": 1,
   "id": "dea2a8fc",
   "metadata": {},
   "outputs": [],
   "source": [
    "from bs4 import BeautifulSoup\n",
    "import requests\n",
    "import pandas as pd"
   ]
  },
  {
   "cell_type": "markdown",
   "id": "db73adeb",
   "metadata": {},
   "source": [
    "## Retrieve an arbitrary Wikipedia page of \"Python\" and create a list of links on that page: url ='https://en.wikipedia.org/wiki/Python'"
   ]
  },
  {
   "cell_type": "code",
   "execution_count": 2,
   "id": "c7fe4e2e",
   "metadata": {},
   "outputs": [],
   "source": [
    "url_wiki ='https://en.wikipedia.org/wiki/Python'"
   ]
  },
  {
   "cell_type": "code",
   "execution_count": 3,
   "id": "394070e1",
   "metadata": {},
   "outputs": [
    {
     "data": {
      "text/plain": [
       "200"
      ]
     },
     "execution_count": 3,
     "metadata": {},
     "output_type": "execute_result"
    }
   ],
   "source": [
    "# download html with a get request\n",
    "response=requests.get(url_wiki)\n",
    "response.status_code"
   ]
  },
  {
   "cell_type": "code",
   "execution_count": 4,
   "id": "ff3d1d63",
   "metadata": {},
   "outputs": [],
   "source": [
    "# parse html (create the 'soup')\n",
    "soup_wiki = BeautifulSoup(response.content, \"html.parser\")"
   ]
  },
  {
   "cell_type": "code",
   "execution_count": 42,
   "id": "6477b91b",
   "metadata": {},
   "outputs": [],
   "source": [
    "links = soup_wiki.find_all(\"a\",href=True)\n",
    "#links"
   ]
  },
  {
   "cell_type": "code",
   "execution_count": 6,
   "id": "2f333d82",
   "metadata": {},
   "outputs": [],
   "source": [
    "#extract the href from each link\n",
    "link_urls = [link['href'] for link in links if link['href'].startswith('http')]\n"
   ]
  },
  {
   "cell_type": "code",
   "execution_count": 41,
   "id": "eaecb0d4",
   "metadata": {},
   "outputs": [],
   "source": [
    "#link_urls[:10]"
   ]
  },
  {
   "cell_type": "markdown",
   "id": "5d55541a",
   "metadata": {},
   "source": [
    "## Create a Python list with the top ten FBI's Most Wanted names: url = 'https://www.fbi.gov/wanted/topten'"
   ]
  },
  {
   "cell_type": "code",
   "execution_count": 8,
   "id": "943c01ac",
   "metadata": {},
   "outputs": [],
   "source": [
    "#query-results-0f737222c5054a81a120bce207b0446a > ul > li:nth-child(3) > h3 > a"
   ]
  },
  {
   "cell_type": "code",
   "execution_count": 9,
   "id": "7532d482",
   "metadata": {},
   "outputs": [],
   "source": [
    "url_FBI ='https://www.fbi.gov/wanted/topten'"
   ]
  },
  {
   "cell_type": "code",
   "execution_count": 10,
   "id": "161cbe81",
   "metadata": {},
   "outputs": [
    {
     "data": {
      "text/plain": [
       "200"
      ]
     },
     "execution_count": 10,
     "metadata": {},
     "output_type": "execute_result"
    }
   ],
   "source": [
    "# download html with a get request\n",
    "headers = {\n",
    "    'User-Agent': 'Mozilla/5.0 (Windows NT 10.0; Win64; x64) AppleWebKit/537.36 (KHTML, like Gecko) Chrome/58.0.3029.110 Safari/537.3'}\n",
    "response = requests.get(url_FBI, headers=headers)\n",
    "response.status_code"
   ]
  },
  {
   "cell_type": "code",
   "execution_count": 11,
   "id": "d0387a82",
   "metadata": {},
   "outputs": [],
   "source": [
    "# parse html (create the 'soup')\n",
    "soup_FBI = BeautifulSoup(response.content, \"html.parser\")"
   ]
  },
  {
   "cell_type": "code",
   "execution_count": 12,
   "id": "edabd34f",
   "metadata": {},
   "outputs": [],
   "source": [
    "#soup_FBI"
   ]
  },
  {
   "cell_type": "code",
   "execution_count": 13,
   "id": "26f9e4b7",
   "metadata": {},
   "outputs": [
    {
     "data": {
      "text/plain": [
       "[<a href=\"https://www.fbi.gov/wanted/topten/wilver-villegas-palomino\">WILVER VILLEGAS-PALOMINO</a>,\n",
       " <a href=\"https://www.fbi.gov/wanted/topten/vitelhomme-innocent\">VITEL'HOMME INNOCENT</a>,\n",
       " <a href=\"https://www.fbi.gov/wanted/topten/alejandro-castillo\">ALEJANDRO ROSALES CASTILLO</a>,\n",
       " <a href=\"https://www.fbi.gov/wanted/topten/alexis-flores\">ALEXIS FLORES</a>,\n",
       " <a href=\"https://www.fbi.gov/wanted/topten/arnoldo-jimenez\">ARNOLDO JIMENEZ</a>,\n",
       " <a href=\"https://www.fbi.gov/wanted/topten/omar-alexander-cardenas\">OMAR ALEXANDER CARDENAS</a>,\n",
       " <a href=\"https://www.fbi.gov/wanted/topten/yulan-adonay-archaga-carias\">YULAN ADONAY ARCHAGA CARIAS</a>,\n",
       " <a href=\"https://www.fbi.gov/wanted/topten/bhadreshkumar-chetanbhai-patel\">BHADRESHKUMAR CHETANBHAI PATEL</a>,\n",
       " <a href=\"https://www.fbi.gov/wanted/topten/donald-eugene-fields-ii\">DONALD EUGENE FIELDS II</a>,\n",
       " <a href=\"https://www.fbi.gov/wanted/topten/ruja-ignatova\">RUJA IGNATOVA</a>]"
      ]
     },
     "execution_count": 13,
     "metadata": {},
     "output_type": "execute_result"
    }
   ],
   "source": [
    "soup_FBI.select(\"#query-results-0f737222c5054a81a120bce207b0446a > ul > li > h3 > a\")"
   ]
  },
  {
   "cell_type": "code",
   "execution_count": 14,
   "id": "f655ac96",
   "metadata": {},
   "outputs": [],
   "source": [
    "names=soup_FBI.find_all(\"h3\",class_=\"title\")"
   ]
  },
  {
   "cell_type": "code",
   "execution_count": 40,
   "id": "dc7bc723",
   "metadata": {},
   "outputs": [],
   "source": [
    "#names"
   ]
  },
  {
   "cell_type": "code",
   "execution_count": 16,
   "id": "3b04d0a5",
   "metadata": {},
   "outputs": [],
   "source": [
    "top_ten_most_wanted = []"
   ]
  },
  {
   "cell_type": "code",
   "execution_count": 17,
   "id": "47f6b6ff",
   "metadata": {},
   "outputs": [],
   "source": [
    "for name in names:\n",
    "    top_ten_most_wanted.append(name.text.strip())"
   ]
  },
  {
   "cell_type": "code",
   "execution_count": 18,
   "id": "a73da940",
   "metadata": {},
   "outputs": [
    {
     "data": {
      "text/plain": [
       "['WILVER VILLEGAS-PALOMINO',\n",
       " \"VITEL'HOMME INNOCENT\",\n",
       " 'ALEJANDRO ROSALES CASTILLO',\n",
       " 'ALEXIS FLORES',\n",
       " 'ARNOLDO JIMENEZ',\n",
       " 'OMAR ALEXANDER CARDENAS',\n",
       " 'YULAN ADONAY ARCHAGA CARIAS',\n",
       " 'BHADRESHKUMAR CHETANBHAI PATEL',\n",
       " 'DONALD EUGENE FIELDS II',\n",
       " 'RUJA IGNATOVA']"
      ]
     },
     "execution_count": 18,
     "metadata": {},
     "output_type": "execute_result"
    }
   ],
   "source": [
    "top_ten_most_wanted"
   ]
  },
  {
   "cell_type": "markdown",
   "id": "86220054",
   "metadata": {},
   "source": [
    "## A list with the different kind of datasets available in data.gov.uk: url = 'https://data.gov.uk/'"
   ]
  },
  {
   "cell_type": "code",
   "execution_count": 19,
   "id": "b2be8fbd",
   "metadata": {},
   "outputs": [],
   "source": [
    "url_gov = \"https://data.gov.uk/\""
   ]
  },
  {
   "cell_type": "code",
   "execution_count": 20,
   "id": "e0d0571b",
   "metadata": {},
   "outputs": [
    {
     "data": {
      "text/plain": [
       "200"
      ]
     },
     "execution_count": 20,
     "metadata": {},
     "output_type": "execute_result"
    }
   ],
   "source": [
    "# download html with a get request\n",
    "response=requests.get(url_gov)\n",
    "response.status_code"
   ]
  },
  {
   "cell_type": "code",
   "execution_count": 21,
   "id": "6a83f5ef",
   "metadata": {},
   "outputs": [],
   "source": [
    "soup_gov = BeautifulSoup(response.content, \"html.parser\")"
   ]
  },
  {
   "cell_type": "code",
   "execution_count": 22,
   "id": "d44dcef4",
   "metadata": {},
   "outputs": [],
   "source": [
    "#soup_gov"
   ]
  },
  {
   "cell_type": "code",
   "execution_count": 23,
   "id": "65dae437",
   "metadata": {},
   "outputs": [],
   "source": [
    "#main-content > div:nth-child(3) > div\n",
    "#soup_gov.select(\"#main-content > div > div\")"
   ]
  },
  {
   "cell_type": "code",
   "execution_count": 24,
   "id": "31397321",
   "metadata": {},
   "outputs": [],
   "source": [
    "dataset_types = []"
   ]
  },
  {
   "cell_type": "code",
   "execution_count": 25,
   "id": "3241cd1a",
   "metadata": {},
   "outputs": [],
   "source": [
    "categories_elements = soup_gov.find_all(\"h3\", class_ = \"govuk-heading-s dgu-topics__heading\")"
   ]
  },
  {
   "cell_type": "code",
   "execution_count": 26,
   "id": "4a86c677",
   "metadata": {},
   "outputs": [],
   "source": [
    "#categories_elements"
   ]
  },
  {
   "cell_type": "code",
   "execution_count": 27,
   "id": "c2313d14",
   "metadata": {},
   "outputs": [],
   "source": [
    "for category in categories_elements:\n",
    "    dataset_types.append(category.text)\n"
   ]
  },
  {
   "cell_type": "code",
   "execution_count": 28,
   "id": "39c68955",
   "metadata": {},
   "outputs": [
    {
     "data": {
      "text/plain": [
       "['Business and economy',\n",
       " 'Crime and justice',\n",
       " 'Defence',\n",
       " 'Education',\n",
       " 'Environment',\n",
       " 'Government',\n",
       " 'Government spending',\n",
       " 'Health',\n",
       " 'Mapping',\n",
       " 'Society',\n",
       " 'Towns and cities',\n",
       " 'Transport',\n",
       " 'Digital service performance',\n",
       " 'Government reference data']"
      ]
     },
     "execution_count": 28,
     "metadata": {},
     "output_type": "execute_result"
    }
   ],
   "source": [
    "dataset_types"
   ]
  },
  {
   "cell_type": "markdown",
   "id": "a19eea5a",
   "metadata": {},
   "source": [
    "## Display the top 10 languages by number of native speakers stored in a pandas dataframe: url = 'https://en.wikipedia.org/wiki/List_of_languages_by_number_of_native_speakers'"
   ]
  },
  {
   "cell_type": "code",
   "execution_count": 29,
   "id": "ac8933ab",
   "metadata": {},
   "outputs": [],
   "source": [
    "url_language = \"https://en.wikipedia.org/wiki/List_of_languages_by_number_of_native_speakers\""
   ]
  },
  {
   "cell_type": "code",
   "execution_count": 30,
   "id": "bcdbadb4",
   "metadata": {},
   "outputs": [
    {
     "data": {
      "text/plain": [
       "200"
      ]
     },
     "execution_count": 30,
     "metadata": {},
     "output_type": "execute_result"
    }
   ],
   "source": [
    "# download html with a get request\n",
    "response=requests.get(url_language)\n",
    "response.status_code"
   ]
  },
  {
   "cell_type": "code",
   "execution_count": 31,
   "id": "9cb450bd",
   "metadata": {},
   "outputs": [],
   "source": [
    "soup_language = BeautifulSoup(response.content , \"html.parser\")"
   ]
  },
  {
   "cell_type": "code",
   "execution_count": 32,
   "id": "51943558",
   "metadata": {},
   "outputs": [],
   "source": [
    "# find the tables that we need\n",
    "table = soup_language.find('table', {'class': 'wikitable'}) # first table of the page\n"
   ]
  },
  {
   "cell_type": "code",
   "execution_count": 39,
   "id": "c7fb5c2b",
   "metadata": {},
   "outputs": [],
   "source": [
    "#table"
   ]
  },
  {
   "cell_type": "code",
   "execution_count": 34,
   "id": "9569cd8e",
   "metadata": {},
   "outputs": [],
   "source": [
    "rows = table.find_all(\"tr\") # another select of the select "
   ]
  },
  {
   "cell_type": "code",
   "execution_count": 35,
   "id": "8f206f63",
   "metadata": {},
   "outputs": [],
   "source": [
    "data = []\n"
   ]
  },
  {
   "cell_type": "code",
   "execution_count": 36,
   "id": "e5d3b6a8",
   "metadata": {},
   "outputs": [],
   "source": [
    "for row in rows[1:11]:  # Skip the header row and get the next 10 rows\n",
    "    cols = row.find_all('td')\n",
    "    if cols:  # This check ensures that there are enough columns in the row\n",
    "        language = cols[0].text.strip()\n",
    "        speakers = cols[1].text.strip().replace(',', '')  # Remove commas from numbers\n",
    "        data.append((language, speakers))\n"
   ]
  },
  {
   "cell_type": "code",
   "execution_count": 37,
   "id": "dca20a6a",
   "metadata": {},
   "outputs": [],
   "source": [
    "df = pd.DataFrame(data,columns=[\"Language\",\"Native Speakers\"])"
   ]
  },
  {
   "cell_type": "code",
   "execution_count": 38,
   "id": "51306642",
   "metadata": {},
   "outputs": [
    {
     "data": {
      "text/html": [
       "<div>\n",
       "<style scoped>\n",
       "    .dataframe tbody tr th:only-of-type {\n",
       "        vertical-align: middle;\n",
       "    }\n",
       "\n",
       "    .dataframe tbody tr th {\n",
       "        vertical-align: top;\n",
       "    }\n",
       "\n",
       "    .dataframe thead th {\n",
       "        text-align: right;\n",
       "    }\n",
       "</style>\n",
       "<table border=\"1\" class=\"dataframe\">\n",
       "  <thead>\n",
       "    <tr style=\"text-align: right;\">\n",
       "      <th></th>\n",
       "      <th>Language</th>\n",
       "      <th>Native Speakers</th>\n",
       "    </tr>\n",
       "  </thead>\n",
       "  <tbody>\n",
       "    <tr>\n",
       "      <th>0</th>\n",
       "      <td>Mandarin Chinese</td>\n",
       "      <td>939</td>\n",
       "    </tr>\n",
       "    <tr>\n",
       "      <th>1</th>\n",
       "      <td>Spanish</td>\n",
       "      <td>485</td>\n",
       "    </tr>\n",
       "    <tr>\n",
       "      <th>2</th>\n",
       "      <td>English</td>\n",
       "      <td>380</td>\n",
       "    </tr>\n",
       "    <tr>\n",
       "      <th>3</th>\n",
       "      <td>Hindi</td>\n",
       "      <td>345</td>\n",
       "    </tr>\n",
       "    <tr>\n",
       "      <th>4</th>\n",
       "      <td>Portuguese</td>\n",
       "      <td>236</td>\n",
       "    </tr>\n",
       "    <tr>\n",
       "      <th>5</th>\n",
       "      <td>Bengali</td>\n",
       "      <td>234</td>\n",
       "    </tr>\n",
       "    <tr>\n",
       "      <th>6</th>\n",
       "      <td>Russian</td>\n",
       "      <td>147</td>\n",
       "    </tr>\n",
       "    <tr>\n",
       "      <th>7</th>\n",
       "      <td>Japanese</td>\n",
       "      <td>123</td>\n",
       "    </tr>\n",
       "    <tr>\n",
       "      <th>8</th>\n",
       "      <td>Yue Chinese</td>\n",
       "      <td>86.1</td>\n",
       "    </tr>\n",
       "    <tr>\n",
       "      <th>9</th>\n",
       "      <td>Vietnamese</td>\n",
       "      <td>85.0</td>\n",
       "    </tr>\n",
       "  </tbody>\n",
       "</table>\n",
       "</div>"
      ],
      "text/plain": [
       "           Language Native Speakers\n",
       "0  Mandarin Chinese             939\n",
       "1           Spanish             485\n",
       "2           English             380\n",
       "3             Hindi             345\n",
       "4        Portuguese             236\n",
       "5           Bengali             234\n",
       "6           Russian             147\n",
       "7          Japanese             123\n",
       "8       Yue Chinese            86.1\n",
       "9        Vietnamese            85.0"
      ]
     },
     "execution_count": 38,
     "metadata": {},
     "output_type": "execute_result"
    }
   ],
   "source": [
    "df"
   ]
  },
  {
   "cell_type": "code",
   "execution_count": null,
   "id": "7f3ab3e3",
   "metadata": {},
   "outputs": [],
   "source": []
  }
 ],
 "metadata": {
  "kernelspec": {
   "display_name": "Python 3 (ipykernel)",
   "language": "python",
   "name": "python3"
  },
  "language_info": {
   "codemirror_mode": {
    "name": "ipython",
    "version": 3
   },
   "file_extension": ".py",
   "mimetype": "text/x-python",
   "name": "python",
   "nbconvert_exporter": "python",
   "pygments_lexer": "ipython3",
   "version": "3.10.9"
  }
 },
 "nbformat": 4,
 "nbformat_minor": 5
}
